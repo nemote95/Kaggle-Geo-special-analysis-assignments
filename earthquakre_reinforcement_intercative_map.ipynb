{
 "cells": [
  {
   "cell_type": "markdown",
   "id": "325309f9",
   "metadata": {
    "papermill": {
     "duration": 0.010146,
     "end_time": "2024-09-26T10:33:14.409866",
     "exception": false,
     "start_time": "2024-09-26T10:33:14.399720",
     "status": "completed"
    },
    "tags": []
   },
   "source": [
    "# Introduction\n",
    "\n",
    "This note book analyzes which areas of Japan need extra earthquake reinforcement as a part of their urban planning. The main goal of this analysis is to investigate which areas are both high in population density and prone to earthquakes.\n",
    "\n",
    "<center>\n",
    "<img src=\"https://i.imgur.com/Kuh9gPj.png\" width=\"450\"><br/>\n",
    "</center>\n"
   ]
  },
  {
   "cell_type": "markdown",
   "id": "592ae556",
   "metadata": {
    "execution": {
     "iopub.execute_input": "2024-09-26T01:27:29.547986Z",
     "iopub.status.busy": "2024-09-26T01:27:29.547532Z",
     "iopub.status.idle": "2024-09-26T01:27:29.583522Z",
     "shell.execute_reply": "2024-09-26T01:27:29.581779Z",
     "shell.execute_reply.started": "2024-09-26T01:27:29.547941Z"
    },
    "papermill": {
     "duration": 0.009211,
     "end_time": "2024-09-26T10:33:14.428693",
     "exception": false,
     "start_time": "2024-09-26T10:33:14.419482",
     "status": "completed"
    },
    "tags": []
   },
   "source": [
    "setting up the environment"
   ]
  },
  {
   "cell_type": "code",
   "execution_count": 1,
   "id": "84dfa3fc",
   "metadata": {
    "execution": {
     "iopub.execute_input": "2024-09-26T10:33:14.450087Z",
     "iopub.status.busy": "2024-09-26T10:33:14.449618Z",
     "iopub.status.idle": "2024-09-26T10:33:16.481699Z",
     "shell.execute_reply": "2024-09-26T10:33:16.480332Z"
    },
    "papermill": {
     "duration": 2.046473,
     "end_time": "2024-09-26T10:33:16.484606",
     "exception": false,
     "start_time": "2024-09-26T10:33:14.438133",
     "status": "completed"
    },
    "tags": []
   },
   "outputs": [],
   "source": [
    "import pandas as pd\n",
    "import geopandas as gpd\n",
    "\n",
    "import folium\n",
    "from folium import Choropleth\n",
    "from folium.plugins import HeatMap\n",
    "\n",
    "from learntools.core import binder\n",
    "binder.bind(globals())\n",
    "from learntools.geospatial.ex3 import *"
   ]
  },
  {
   "cell_type": "markdown",
   "id": "4652a318",
   "metadata": {
    "papermill": {
     "duration": 0.009587,
     "end_time": "2024-09-26T10:33:16.504326",
     "exception": false,
     "start_time": "2024-09-26T10:33:16.494739",
     "status": "completed"
    },
    "tags": []
   },
   "source": [
    "We define a function `embed_map()` for displaying interactive maps. It accepts two arguments: the variable containing the map, and the name of the HTML file where the map will be saved.\n",
    "\n",
    "This function ensures that the maps are visible [in all web browsers](https://github.com/python-visualization/folium/issues/812)."
   ]
  },
  {
   "cell_type": "code",
   "execution_count": 2,
   "id": "b8a89de7",
   "metadata": {
    "execution": {
     "iopub.execute_input": "2024-09-26T10:33:16.526435Z",
     "iopub.status.busy": "2024-09-26T10:33:16.525816Z",
     "iopub.status.idle": "2024-09-26T10:33:16.531954Z",
     "shell.execute_reply": "2024-09-26T10:33:16.530861Z"
    },
    "papermill": {
     "duration": 0.020686,
     "end_time": "2024-09-26T10:33:16.534599",
     "exception": false,
     "start_time": "2024-09-26T10:33:16.513913",
     "status": "completed"
    },
    "tags": []
   },
   "outputs": [],
   "source": [
    "def embed_map(m, file_name):\n",
    "    from IPython.display import IFrame\n",
    "    m.save(file_name)\n",
    "    return IFrame(file_name, width='100%', height='500px')"
   ]
  },
  {
   "cell_type": "markdown",
   "id": "8023074f",
   "metadata": {
    "papermill": {
     "duration": 0.009331,
     "end_time": "2024-09-26T10:33:16.553493",
     "exception": false,
     "start_time": "2024-09-26T10:33:16.544162",
     "status": "completed"
    },
    "tags": []
   },
   "source": [
    "\n",
    "### 1) Do earthquakes coincide with plate boundaries?\n",
    "\n",
    "The code cell below creates a DataFrame `plate_boundaries` that shows global plate boundaries.  The \"coordinates\" column is a list of (latitude, longitude) locations along the boundaries."
   ]
  },
  {
   "cell_type": "code",
   "execution_count": 3,
   "id": "8d8762c3",
   "metadata": {
    "execution": {
     "iopub.execute_input": "2024-09-26T10:33:16.574907Z",
     "iopub.status.busy": "2024-09-26T10:33:16.574469Z",
     "iopub.status.idle": "2024-09-26T10:33:17.482258Z",
     "shell.execute_reply": "2024-09-26T10:33:17.480985Z"
    },
    "papermill": {
     "duration": 0.921821,
     "end_time": "2024-09-26T10:33:17.485135",
     "exception": false,
     "start_time": "2024-09-26T10:33:16.563314",
     "status": "completed"
    },
    "tags": []
   },
   "outputs": [
    {
     "data": {
      "text/html": [
       "<div>\n",
       "<style scoped>\n",
       "    .dataframe tbody tr th:only-of-type {\n",
       "        vertical-align: middle;\n",
       "    }\n",
       "\n",
       "    .dataframe tbody tr th {\n",
       "        vertical-align: top;\n",
       "    }\n",
       "\n",
       "    .dataframe thead th {\n",
       "        text-align: right;\n",
       "    }\n",
       "</style>\n",
       "<table border=\"1\" class=\"dataframe\">\n",
       "  <thead>\n",
       "    <tr style=\"text-align: right;\">\n",
       "      <th></th>\n",
       "      <th>HAZ_PLATES</th>\n",
       "      <th>HAZ_PLAT_1</th>\n",
       "      <th>HAZ_PLAT_2</th>\n",
       "      <th>Shape_Leng</th>\n",
       "      <th>coordinates</th>\n",
       "    </tr>\n",
       "  </thead>\n",
       "  <tbody>\n",
       "    <tr>\n",
       "      <th>0</th>\n",
       "      <td>TRENCH</td>\n",
       "      <td>SERAM TROUGH (ACTIVE)</td>\n",
       "      <td>6722</td>\n",
       "      <td>5.843467</td>\n",
       "      <td>[(-5.444200361999947, 133.6808931800001), (-5....</td>\n",
       "    </tr>\n",
       "    <tr>\n",
       "      <th>1</th>\n",
       "      <td>TRENCH</td>\n",
       "      <td>WETAR THRUST</td>\n",
       "      <td>6722</td>\n",
       "      <td>1.829013</td>\n",
       "      <td>[(-7.760600482999962, 125.47879802900002), (-7...</td>\n",
       "    </tr>\n",
       "    <tr>\n",
       "      <th>2</th>\n",
       "      <td>TRENCH</td>\n",
       "      <td>TRENCH WEST OF LUZON (MANILA TRENCH) NORTHERN ...</td>\n",
       "      <td>6621</td>\n",
       "      <td>6.743604</td>\n",
       "      <td>[(19.817899819000047, 120.09999798800004), (19...</td>\n",
       "    </tr>\n",
       "    <tr>\n",
       "      <th>3</th>\n",
       "      <td>TRENCH</td>\n",
       "      <td>BONIN TRENCH</td>\n",
       "      <td>9821</td>\n",
       "      <td>8.329381</td>\n",
       "      <td>[(26.175899215000072, 143.20620700100005), (26...</td>\n",
       "    </tr>\n",
       "    <tr>\n",
       "      <th>4</th>\n",
       "      <td>TRENCH</td>\n",
       "      <td>NEW GUINEA TRENCH</td>\n",
       "      <td>8001</td>\n",
       "      <td>11.998145</td>\n",
       "      <td>[(0.41880004000006466, 132.8273013480001), (0....</td>\n",
       "    </tr>\n",
       "  </tbody>\n",
       "</table>\n",
       "</div>"
      ],
      "text/plain": [
       "  HAZ_PLATES                                         HAZ_PLAT_1  HAZ_PLAT_2  \\\n",
       "0     TRENCH                              SERAM TROUGH (ACTIVE)        6722   \n",
       "1     TRENCH                                       WETAR THRUST        6722   \n",
       "2     TRENCH  TRENCH WEST OF LUZON (MANILA TRENCH) NORTHERN ...        6621   \n",
       "3     TRENCH                                       BONIN TRENCH        9821   \n",
       "4     TRENCH                                  NEW GUINEA TRENCH        8001   \n",
       "\n",
       "   Shape_Leng                                        coordinates  \n",
       "0    5.843467  [(-5.444200361999947, 133.6808931800001), (-5....  \n",
       "1    1.829013  [(-7.760600482999962, 125.47879802900002), (-7...  \n",
       "2    6.743604  [(19.817899819000047, 120.09999798800004), (19...  \n",
       "3    8.329381  [(26.175899215000072, 143.20620700100005), (26...  \n",
       "4   11.998145  [(0.41880004000006466, 132.8273013480001), (0....  "
      ]
     },
     "execution_count": 3,
     "metadata": {},
     "output_type": "execute_result"
    }
   ],
   "source": [
    "plate_boundaries = gpd.read_file(\"../input/geospatial-learn-course-data/Plate_Boundaries/Plate_Boundaries/Plate_Boundaries.shp\")\n",
    "plate_boundaries['coordinates'] = plate_boundaries.apply(lambda x: [(b,a) for (a,b) in list(x.geometry.coords)], axis='columns')\n",
    "plate_boundaries.drop('geometry', axis=1, inplace=True)\n",
    "\n",
    "plate_boundaries.head()"
   ]
  },
  {
   "cell_type": "markdown",
   "id": "4cbd694a",
   "metadata": {
    "papermill": {
     "duration": 0.009518,
     "end_time": "2024-09-26T10:33:17.504558",
     "exception": false,
     "start_time": "2024-09-26T10:33:17.495040",
     "status": "completed"
    },
    "tags": []
   },
   "source": [
    "The code cell below loads the historical earthquake data into a DataFrame `earthquakes`."
   ]
  },
  {
   "cell_type": "code",
   "execution_count": 4,
   "id": "342f615d",
   "metadata": {
    "execution": {
     "iopub.execute_input": "2024-09-26T10:33:17.525947Z",
     "iopub.status.busy": "2024-09-26T10:33:17.525502Z",
     "iopub.status.idle": "2024-09-26T10:33:17.598183Z",
     "shell.execute_reply": "2024-09-26T10:33:17.596977Z"
    },
    "papermill": {
     "duration": 0.086688,
     "end_time": "2024-09-26T10:33:17.601024",
     "exception": false,
     "start_time": "2024-09-26T10:33:17.514336",
     "status": "completed"
    },
    "tags": []
   },
   "outputs": [
    {
     "data": {
      "text/html": [
       "<div>\n",
       "<style scoped>\n",
       "    .dataframe tbody tr th:only-of-type {\n",
       "        vertical-align: middle;\n",
       "    }\n",
       "\n",
       "    .dataframe tbody tr th {\n",
       "        vertical-align: top;\n",
       "    }\n",
       "\n",
       "    .dataframe thead th {\n",
       "        text-align: right;\n",
       "    }\n",
       "</style>\n",
       "<table border=\"1\" class=\"dataframe\">\n",
       "  <thead>\n",
       "    <tr style=\"text-align: right;\">\n",
       "      <th></th>\n",
       "      <th>DateTime</th>\n",
       "      <th>Latitude</th>\n",
       "      <th>Longitude</th>\n",
       "      <th>Depth</th>\n",
       "      <th>Magnitude</th>\n",
       "      <th>MagType</th>\n",
       "      <th>NbStations</th>\n",
       "      <th>Gap</th>\n",
       "      <th>Distance</th>\n",
       "      <th>RMS</th>\n",
       "      <th>Source</th>\n",
       "      <th>EventID</th>\n",
       "    </tr>\n",
       "  </thead>\n",
       "  <tbody>\n",
       "    <tr>\n",
       "      <th>0</th>\n",
       "      <td>1970-01-04 17:00:40.200</td>\n",
       "      <td>24.139</td>\n",
       "      <td>102.503</td>\n",
       "      <td>31.0</td>\n",
       "      <td>7.5</td>\n",
       "      <td>Ms</td>\n",
       "      <td>90.0</td>\n",
       "      <td>NaN</td>\n",
       "      <td>NaN</td>\n",
       "      <td>0.0</td>\n",
       "      <td>NEI</td>\n",
       "      <td>1.970010e+09</td>\n",
       "    </tr>\n",
       "    <tr>\n",
       "      <th>1</th>\n",
       "      <td>1970-01-06 05:35:51.800</td>\n",
       "      <td>-9.628</td>\n",
       "      <td>151.458</td>\n",
       "      <td>8.0</td>\n",
       "      <td>6.2</td>\n",
       "      <td>Ms</td>\n",
       "      <td>85.0</td>\n",
       "      <td>NaN</td>\n",
       "      <td>NaN</td>\n",
       "      <td>0.0</td>\n",
       "      <td>NEI</td>\n",
       "      <td>1.970011e+09</td>\n",
       "    </tr>\n",
       "    <tr>\n",
       "      <th>2</th>\n",
       "      <td>1970-01-08 17:12:39.100</td>\n",
       "      <td>-34.741</td>\n",
       "      <td>178.568</td>\n",
       "      <td>179.0</td>\n",
       "      <td>6.1</td>\n",
       "      <td>Mb</td>\n",
       "      <td>59.0</td>\n",
       "      <td>NaN</td>\n",
       "      <td>NaN</td>\n",
       "      <td>0.0</td>\n",
       "      <td>NEI</td>\n",
       "      <td>1.970011e+09</td>\n",
       "    </tr>\n",
       "    <tr>\n",
       "      <th>3</th>\n",
       "      <td>1970-01-10 12:07:08.600</td>\n",
       "      <td>6.825</td>\n",
       "      <td>126.737</td>\n",
       "      <td>73.0</td>\n",
       "      <td>6.1</td>\n",
       "      <td>Mb</td>\n",
       "      <td>91.0</td>\n",
       "      <td>NaN</td>\n",
       "      <td>NaN</td>\n",
       "      <td>0.0</td>\n",
       "      <td>NEI</td>\n",
       "      <td>1.970011e+09</td>\n",
       "    </tr>\n",
       "    <tr>\n",
       "      <th>4</th>\n",
       "      <td>1970-01-16 08:05:39.000</td>\n",
       "      <td>60.280</td>\n",
       "      <td>-152.660</td>\n",
       "      <td>85.0</td>\n",
       "      <td>6.0</td>\n",
       "      <td>ML</td>\n",
       "      <td>0.0</td>\n",
       "      <td>NaN</td>\n",
       "      <td>NaN</td>\n",
       "      <td>NaN</td>\n",
       "      <td>AK</td>\n",
       "      <td>NaN</td>\n",
       "    </tr>\n",
       "  </tbody>\n",
       "</table>\n",
       "</div>"
      ],
      "text/plain": [
       "                 DateTime  Latitude  Longitude  Depth  Magnitude MagType  \\\n",
       "0 1970-01-04 17:00:40.200    24.139    102.503   31.0        7.5      Ms   \n",
       "1 1970-01-06 05:35:51.800    -9.628    151.458    8.0        6.2      Ms   \n",
       "2 1970-01-08 17:12:39.100   -34.741    178.568  179.0        6.1      Mb   \n",
       "3 1970-01-10 12:07:08.600     6.825    126.737   73.0        6.1      Mb   \n",
       "4 1970-01-16 08:05:39.000    60.280   -152.660   85.0        6.0      ML   \n",
       "\n",
       "   NbStations  Gap  Distance  RMS Source       EventID  \n",
       "0        90.0  NaN       NaN  0.0    NEI  1.970010e+09  \n",
       "1        85.0  NaN       NaN  0.0    NEI  1.970011e+09  \n",
       "2        59.0  NaN       NaN  0.0    NEI  1.970011e+09  \n",
       "3        91.0  NaN       NaN  0.0    NEI  1.970011e+09  \n",
       "4         0.0  NaN       NaN  NaN     AK           NaN  "
      ]
     },
     "execution_count": 4,
     "metadata": {},
     "output_type": "execute_result"
    }
   ],
   "source": [
    "# Load the data and print the first 5 rows\n",
    "earthquakes = pd.read_csv(\"../input/geospatial-learn-course-data/earthquakes1970-2014.csv\", parse_dates=[\"DateTime\"])\n",
    "earthquakes.head()"
   ]
  },
  {
   "cell_type": "markdown",
   "id": "7b8913c4",
   "metadata": {
    "papermill": {
     "duration": 0.009721,
     "end_time": "2024-09-26T10:33:17.621185",
     "exception": false,
     "start_time": "2024-09-26T10:33:17.611464",
     "status": "completed"
    },
    "tags": []
   },
   "source": [
    "The code cell below visualizes the plate boundaries on a map.  Use all of the earthquake data to add a heatmap to the same map, to determine whether earthquakes coincide with plate boundaries.  "
   ]
  },
  {
   "cell_type": "code",
   "execution_count": 5,
   "id": "d0a11e65",
   "metadata": {
    "execution": {
     "iopub.execute_input": "2024-09-26T10:33:17.645521Z",
     "iopub.status.busy": "2024-09-26T10:33:17.645080Z",
     "iopub.status.idle": "2024-09-26T10:33:18.292694Z",
     "shell.execute_reply": "2024-09-26T10:33:18.291342Z"
    },
    "papermill": {
     "duration": 0.662107,
     "end_time": "2024-09-26T10:33:18.295385",
     "exception": false,
     "start_time": "2024-09-26T10:33:17.633278",
     "status": "completed"
    },
    "tags": []
   },
   "outputs": [
    {
     "data": {
      "text/html": [
       "\n",
       "        <iframe\n",
       "            width=\"100%\"\n",
       "            height=\"500px\"\n",
       "            src=\"q_1.html\"\n",
       "            frameborder=\"0\"\n",
       "            allowfullscreen\n",
       "            \n",
       "        ></iframe>\n",
       "        "
      ],
      "text/plain": [
       "<IPython.lib.display.IFrame at 0x7eb8534445b0>"
      ]
     },
     "execution_count": 5,
     "metadata": {},
     "output_type": "execute_result"
    }
   ],
   "source": [
    "# Create a base map with plate boundaries\n",
    "m_1 = folium.Map(location=[35,136], tiles='cartodbpositron', zoom_start=5)\n",
    "for i in range(len(plate_boundaries)):\n",
    "    folium.PolyLine(locations=plate_boundaries.coordinates.iloc[i], weight=2, color='black').add_to(m_1)\n",
    "\n",
    "# Your code here: Add a heatmap to the map\n",
    "HeatMap(data=earthquakes[['Latitude', 'Longitude']], radius=15).add_to(m_1)\n",
    "\n",
    "# Uncomment to see a hint\n",
    "\n",
    "\n",
    "# Show the map\n",
    "embed_map(m_1, 'q_1.html')"
   ]
  },
  {
   "cell_type": "markdown",
   "id": "f9aa5a65",
   "metadata": {
    "papermill": {
     "duration": 0.010093,
     "end_time": "2024-09-26T10:33:18.315921",
     "exception": false,
     "start_time": "2024-09-26T10:33:18.305828",
     "status": "completed"
    },
    "tags": []
   },
   "source": [
    "So, given the map above, earthquakes coincide with plate boundaries.\n"
   ]
  },
  {
   "cell_type": "markdown",
   "id": "b1be8fa3",
   "metadata": {
    "papermill": {
     "duration": 0.010275,
     "end_time": "2024-09-26T10:33:18.336772",
     "exception": false,
     "start_time": "2024-09-26T10:33:18.326497",
     "status": "completed"
    },
    "tags": []
   },
   "source": [
    "### 2) Is there a relationship between earthquake depth and proximity to a plate boundary in Japan?\n",
    "\n",
    "You recently read that the depth of earthquakes tells us [important information](https://www.usgs.gov/faqs/what-depth-do-earthquakes-occur-what-significance-depth?qt-news_science_products=0#qt-news_science_products) about the structure of the earth.  You're interested to see if there are any intereresting global patterns, and you'd also like to understand how depth varies in Japan.\n",
    "\n"
   ]
  },
  {
   "cell_type": "code",
   "execution_count": 6,
   "id": "ef69e2a2",
   "metadata": {
    "execution": {
     "iopub.execute_input": "2024-09-26T10:33:18.360878Z",
     "iopub.status.busy": "2024-09-26T10:33:18.359961Z",
     "iopub.status.idle": "2024-09-26T10:33:24.985397Z",
     "shell.execute_reply": "2024-09-26T10:33:24.983637Z"
    },
    "papermill": {
     "duration": 6.640617,
     "end_time": "2024-09-26T10:33:24.988355",
     "exception": false,
     "start_time": "2024-09-26T10:33:18.347738",
     "status": "completed"
    },
    "tags": []
   },
   "outputs": [
    {
     "data": {
      "text/html": [
       "\n",
       "        <iframe\n",
       "            width=\"100%\"\n",
       "            height=\"500px\"\n",
       "            src=\"q_2.html\"\n",
       "            frameborder=\"0\"\n",
       "            allowfullscreen\n",
       "            \n",
       "        ></iframe>\n",
       "        "
      ],
      "text/plain": [
       "<IPython.lib.display.IFrame at 0x7eb8521d9cc0>"
      ]
     },
     "execution_count": 6,
     "metadata": {},
     "output_type": "execute_result"
    }
   ],
   "source": [
    "# Create a base map with plate boundaries\n",
    "m_2 = folium.Map(location=[35,136], tiles='cartodbpositron', zoom_start=5)\n",
    "for i in range(len(plate_boundaries)):\n",
    "    folium.PolyLine(locations=plate_boundaries.coordinates.iloc[i], weight=2, color='black').add_to(m_2)\n",
    "    \n",
    "# Your code here: Add a map to visualize earthquake depth\n",
    "def color_producer(val):\n",
    "    if val <= 50:\n",
    "        return 'forestgreen'\n",
    "    elif val<100:\n",
    "        return 'darkorange'\n",
    "    else:\n",
    "        return 'red'\n",
    "\n",
    "# Add a bubble map to the base map\n",
    "for i in range(0,len(earthquakes.index)):\n",
    "    folium.Circle(\n",
    "        location=[earthquakes.iloc[i]['Latitude'], earthquakes.iloc[i]['Longitude']],\n",
    "        radius=20,\n",
    "        color=color_producer(earthquakes.iloc[i]['Depth'])).add_to(m_2)\n",
    "\n",
    "# Uncomment to see a hint\n",
    "#q_2.a.hint()\n",
    "\n",
    "# View the map\n",
    "embed_map(m_2, 'q_2.html')"
   ]
  },
  {
   "cell_type": "code",
   "execution_count": 7,
   "id": "f1ff81bd",
   "metadata": {
    "execution": {
     "iopub.execute_input": "2024-09-26T10:33:25.011800Z",
     "iopub.status.busy": "2024-09-26T10:33:25.011329Z",
     "iopub.status.idle": "2024-09-26T10:33:25.027210Z",
     "shell.execute_reply": "2024-09-26T10:33:25.026131Z"
    },
    "papermill": {
     "duration": 0.030495,
     "end_time": "2024-09-26T10:33:25.029802",
     "exception": false,
     "start_time": "2024-09-26T10:33:24.999307",
     "status": "completed"
    },
    "tags": []
   },
   "outputs": [
    {
     "data": {
      "application/javascript": [
       "parent.postMessage({\"jupyterEvent\": \"custom.exercise_interaction\", \"data\": {\"outcomeType\": 1, \"valueTowardsCompletion\": 1.0, \"interactionType\": 1, \"questionType\": 2, \"questionId\": \"2.1_Q2P\", \"learnToolsVersion\": \"0.3.4\", \"failureMessage\": \"\", \"exceptionClass\": \"\", \"trace\": \"\"}}, \"*\")"
      ],
      "text/plain": [
       "<IPython.core.display.Javascript object>"
      ]
     },
     "metadata": {},
     "output_type": "display_data"
    },
    {
     "data": {
      "text/markdown": [
       "<span style=\"color:#33cc33\">Thank you for creating a map!</span>"
      ],
      "text/plain": [
       "Thank you for creating a map!"
      ]
     },
     "metadata": {},
     "output_type": "display_data"
    },
    {
     "data": {
      "application/javascript": [
       "parent.postMessage({\"jupyterEvent\": \"custom.exercise_interaction\", \"data\": {\"interactionType\": 3, \"questionType\": 2, \"questionId\": \"2.1_Q2P\", \"learnToolsVersion\": \"0.3.4\", \"valueTowardsCompletion\": 0.0, \"failureMessage\": \"\", \"exceptionClass\": \"\", \"trace\": \"\", \"outcomeType\": 4}}, \"*\")"
      ],
      "text/plain": [
       "<IPython.core.display.Javascript object>"
      ]
     },
     "metadata": {},
     "output_type": "display_data"
    },
    {
     "data": {
      "text/markdown": [
       "<span style=\"color:#33cc99\">Solution:</span> \n",
       "```python\n",
       "# Custom function to assign a color to each circle\n",
       "def color_producer(val):\n",
       "    if val < 50:\n",
       "        return 'forestgreen'\n",
       "    elif val < 100:\n",
       "        return 'darkorange'\n",
       "    else:\n",
       "        return 'darkred'\n",
       "\n",
       "# Add a map to visualize earthquake depth\n",
       "for i in range(0,len(earthquakes)):\n",
       "    folium.Circle(\n",
       "        location=[earthquakes.iloc[i]['Latitude'], earthquakes.iloc[i]['Longitude']],\n",
       "        radius=2000,\n",
       "        color=color_producer(earthquakes.iloc[i]['Depth'])).add_to(m_2)\n",
       "\n",
       "```"
      ],
      "text/plain": [
       "Solution: \n",
       "```python\n",
       "# Custom function to assign a color to each circle\n",
       "def color_producer(val):\n",
       "    if val < 50:\n",
       "        return 'forestgreen'\n",
       "    elif val < 100:\n",
       "        return 'darkorange'\n",
       "    else:\n",
       "        return 'darkred'\n",
       "\n",
       "# Add a map to visualize earthquake depth\n",
       "for i in range(0,len(earthquakes)):\n",
       "    folium.Circle(\n",
       "        location=[earthquakes.iloc[i]['Latitude'], earthquakes.iloc[i]['Longitude']],\n",
       "        radius=2000,\n",
       "        color=color_producer(earthquakes.iloc[i]['Depth'])).add_to(m_2)\n",
       "\n",
       "```"
      ]
     },
     "metadata": {},
     "output_type": "display_data"
    }
   ],
   "source": [
    "# Get credit for your work after you have created a map\n",
    "q_2.a.check()\n",
    "\n",
    "# Uncomment to see our solution (your code may look different!)\n",
    "q_2.a.solution()"
   ]
  },
  {
   "cell_type": "markdown",
   "id": "c9be5a37",
   "metadata": {
    "papermill": {
     "duration": 0.011122,
     "end_time": "2024-09-26T10:33:25.052773",
     "exception": false,
     "start_time": "2024-09-26T10:33:25.041651",
     "status": "completed"
    },
    "tags": []
   },
   "source": [
    "Can you detect a relationship between proximity to a plate boundary and earthquake depth?  Does this pattern hold globally?  In Japan?"
   ]
  },
  {
   "cell_type": "code",
   "execution_count": 8,
   "id": "f4a5c2fa",
   "metadata": {
    "execution": {
     "iopub.execute_input": "2024-09-26T10:33:25.077221Z",
     "iopub.status.busy": "2024-09-26T10:33:25.076771Z",
     "iopub.status.idle": "2024-09-26T10:33:25.086670Z",
     "shell.execute_reply": "2024-09-26T10:33:25.085476Z"
    },
    "papermill": {
     "duration": 0.025211,
     "end_time": "2024-09-26T10:33:25.089255",
     "exception": false,
     "start_time": "2024-09-26T10:33:25.064044",
     "status": "completed"
    },
    "tags": []
   },
   "outputs": [
    {
     "data": {
      "application/javascript": [
       "parent.postMessage({\"jupyterEvent\": \"custom.exercise_interaction\", \"data\": {\"interactionType\": 3, \"questionType\": 4, \"questionId\": \"2.2_Q2T\", \"learnToolsVersion\": \"0.3.4\", \"valueTowardsCompletion\": 0.0, \"failureMessage\": \"\", \"exceptionClass\": \"\", \"trace\": \"\", \"outcomeType\": 4}}, \"*\")"
      ],
      "text/plain": [
       "<IPython.core.display.Javascript object>"
      ]
     },
     "metadata": {},
     "output_type": "display_data"
    },
    {
     "data": {
      "text/markdown": [
       "<span style=\"color:#33cc99\">Solution:</span> In the northern half of Japan, it does appear that earthquakes closer to plate boundaries tend to be shallower (and earthquakes farther from plate boundaries are deeper).  This pattern is repeated in other locations, such as the western coast of South America.  But, it does not hold everywhere (for instance, in China, Mongolia, and Russia)."
      ],
      "text/plain": [
       "Solution: In the northern half of Japan, it does appear that earthquakes closer to plate boundaries tend to be shallower (and earthquakes farther from plate boundaries are deeper).  This pattern is repeated in other locations, such as the western coast of South America.  But, it does not hold everywhere (for instance, in China, Mongolia, and Russia)."
      ]
     },
     "metadata": {},
     "output_type": "display_data"
    }
   ],
   "source": [
    "# View the solution (Run this code cell to receive credit!)\n",
    "q_2.b.solution()"
   ]
  },
  {
   "cell_type": "markdown",
   "id": "5d58aeb6",
   "metadata": {
    "papermill": {
     "duration": 0.011286,
     "end_time": "2024-09-26T10:33:25.112159",
     "exception": false,
     "start_time": "2024-09-26T10:33:25.100873",
     "status": "completed"
    },
    "tags": []
   },
   "source": [
    "### 3) Which prefectures have high population density?\n",
    "\n",
    "Run the next code cell (without changes) to create a GeoDataFrame `prefectures` that contains the geographical boundaries of Japanese prefectures."
   ]
  },
  {
   "cell_type": "code",
   "execution_count": 9,
   "id": "c1eab3b3",
   "metadata": {
    "execution": {
     "iopub.execute_input": "2024-09-26T10:33:25.139571Z",
     "iopub.status.busy": "2024-09-26T10:33:25.138269Z",
     "iopub.status.idle": "2024-09-26T10:33:26.241048Z",
     "shell.execute_reply": "2024-09-26T10:33:26.239767Z"
    },
    "papermill": {
     "duration": 1.119483,
     "end_time": "2024-09-26T10:33:26.243742",
     "exception": false,
     "start_time": "2024-09-26T10:33:25.124259",
     "status": "completed"
    },
    "tags": []
   },
   "outputs": [
    {
     "data": {
      "text/html": [
       "<div>\n",
       "<style scoped>\n",
       "    .dataframe tbody tr th:only-of-type {\n",
       "        vertical-align: middle;\n",
       "    }\n",
       "\n",
       "    .dataframe tbody tr th {\n",
       "        vertical-align: top;\n",
       "    }\n",
       "\n",
       "    .dataframe thead th {\n",
       "        text-align: right;\n",
       "    }\n",
       "</style>\n",
       "<table border=\"1\" class=\"dataframe\">\n",
       "  <thead>\n",
       "    <tr style=\"text-align: right;\">\n",
       "      <th></th>\n",
       "      <th>geometry</th>\n",
       "    </tr>\n",
       "    <tr>\n",
       "      <th>prefecture</th>\n",
       "      <th></th>\n",
       "    </tr>\n",
       "  </thead>\n",
       "  <tbody>\n",
       "    <tr>\n",
       "      <th>Aichi</th>\n",
       "      <td>MULTIPOLYGON (((137.09523 34.65330, 137.09546 ...</td>\n",
       "    </tr>\n",
       "    <tr>\n",
       "      <th>Akita</th>\n",
       "      <td>MULTIPOLYGON (((139.55725 39.20330, 139.55765 ...</td>\n",
       "    </tr>\n",
       "    <tr>\n",
       "      <th>Aomori</th>\n",
       "      <td>MULTIPOLYGON (((141.39860 40.92472, 141.39806 ...</td>\n",
       "    </tr>\n",
       "    <tr>\n",
       "      <th>Chiba</th>\n",
       "      <td>MULTIPOLYGON (((139.82488 34.98967, 139.82434 ...</td>\n",
       "    </tr>\n",
       "    <tr>\n",
       "      <th>Ehime</th>\n",
       "      <td>MULTIPOLYGON (((132.55859 32.91224, 132.55904 ...</td>\n",
       "    </tr>\n",
       "  </tbody>\n",
       "</table>\n",
       "</div>"
      ],
      "text/plain": [
       "                                                     geometry\n",
       "prefecture                                                   \n",
       "Aichi       MULTIPOLYGON (((137.09523 34.65330, 137.09546 ...\n",
       "Akita       MULTIPOLYGON (((139.55725 39.20330, 139.55765 ...\n",
       "Aomori      MULTIPOLYGON (((141.39860 40.92472, 141.39806 ...\n",
       "Chiba       MULTIPOLYGON (((139.82488 34.98967, 139.82434 ...\n",
       "Ehime       MULTIPOLYGON (((132.55859 32.91224, 132.55904 ..."
      ]
     },
     "execution_count": 9,
     "metadata": {},
     "output_type": "execute_result"
    }
   ],
   "source": [
    "# GeoDataFrame with prefecture boundaries\n",
    "prefectures = gpd.read_file(\"../input/geospatial-learn-course-data/japan-prefecture-boundaries/japan-prefecture-boundaries/japan-prefecture-boundaries.shp\")\n",
    "prefectures.set_index('prefecture', inplace=True)\n",
    "prefectures.head()"
   ]
  },
  {
   "cell_type": "markdown",
   "id": "d5ff227e",
   "metadata": {
    "papermill": {
     "duration": 0.01179,
     "end_time": "2024-09-26T10:33:26.267894",
     "exception": false,
     "start_time": "2024-09-26T10:33:26.256104",
     "status": "completed"
    },
    "tags": []
   },
   "source": [
    "The next code cell creates a DataFrame `stats` containing the population, area (in square kilometers), and population density (per square kilometer) for each Japanese prefecture.  Run the code cell without changes."
   ]
  },
  {
   "cell_type": "code",
   "execution_count": 10,
   "id": "381071f7",
   "metadata": {
    "execution": {
     "iopub.execute_input": "2024-09-26T10:33:26.295056Z",
     "iopub.status.busy": "2024-09-26T10:33:26.294599Z",
     "iopub.status.idle": "2024-09-26T10:33:27.728569Z",
     "shell.execute_reply": "2024-09-26T10:33:27.727332Z"
    },
    "papermill": {
     "duration": 1.451706,
     "end_time": "2024-09-26T10:33:27.732135",
     "exception": false,
     "start_time": "2024-09-26T10:33:26.280429",
     "status": "completed"
    },
    "tags": []
   },
   "outputs": [
    {
     "data": {
      "text/html": [
       "<div>\n",
       "<style scoped>\n",
       "    .dataframe tbody tr th:only-of-type {\n",
       "        vertical-align: middle;\n",
       "    }\n",
       "\n",
       "    .dataframe tbody tr th {\n",
       "        vertical-align: top;\n",
       "    }\n",
       "\n",
       "    .dataframe thead th {\n",
       "        text-align: right;\n",
       "    }\n",
       "</style>\n",
       "<table border=\"1\" class=\"dataframe\">\n",
       "  <thead>\n",
       "    <tr style=\"text-align: right;\">\n",
       "      <th></th>\n",
       "      <th>population</th>\n",
       "      <th>area_sqkm</th>\n",
       "      <th>density</th>\n",
       "    </tr>\n",
       "    <tr>\n",
       "      <th>prefecture</th>\n",
       "      <th></th>\n",
       "      <th></th>\n",
       "      <th></th>\n",
       "    </tr>\n",
       "  </thead>\n",
       "  <tbody>\n",
       "    <tr>\n",
       "      <th>Tokyo</th>\n",
       "      <td>12868000</td>\n",
       "      <td>1800.614782</td>\n",
       "      <td>7146.448049</td>\n",
       "    </tr>\n",
       "    <tr>\n",
       "      <th>Kanagawa</th>\n",
       "      <td>8943000</td>\n",
       "      <td>2383.038975</td>\n",
       "      <td>3752.771186</td>\n",
       "    </tr>\n",
       "    <tr>\n",
       "      <th>Osaka</th>\n",
       "      <td>8801000</td>\n",
       "      <td>1923.151529</td>\n",
       "      <td>4576.342460</td>\n",
       "    </tr>\n",
       "    <tr>\n",
       "      <th>Aichi</th>\n",
       "      <td>7418000</td>\n",
       "      <td>5164.400005</td>\n",
       "      <td>1436.372085</td>\n",
       "    </tr>\n",
       "    <tr>\n",
       "      <th>Saitama</th>\n",
       "      <td>7130000</td>\n",
       "      <td>3794.036890</td>\n",
       "      <td>1879.264806</td>\n",
       "    </tr>\n",
       "  </tbody>\n",
       "</table>\n",
       "</div>"
      ],
      "text/plain": [
       "            population    area_sqkm      density\n",
       "prefecture                                      \n",
       "Tokyo         12868000  1800.614782  7146.448049\n",
       "Kanagawa       8943000  2383.038975  3752.771186\n",
       "Osaka          8801000  1923.151529  4576.342460\n",
       "Aichi          7418000  5164.400005  1436.372085\n",
       "Saitama        7130000  3794.036890  1879.264806"
      ]
     },
     "execution_count": 10,
     "metadata": {},
     "output_type": "execute_result"
    }
   ],
   "source": [
    "# DataFrame containing population of each prefecture\n",
    "population = pd.read_csv(\"../input/geospatial-learn-course-data/japan-prefecture-population.csv\")\n",
    "population.set_index('prefecture', inplace=True)\n",
    "\n",
    "# Calculate area (in square kilometers) of each prefecture\n",
    "area_sqkm = pd.Series(prefectures.geometry.to_crs(epsg=32654).area / 10**6, name='area_sqkm')\n",
    "stats = population.join(area_sqkm)\n",
    "\n",
    "# Add density (per square kilometer) of each prefecture\n",
    "stats['density'] = stats[\"population\"] / stats[\"area_sqkm\"]\n",
    "stats.head()"
   ]
  },
  {
   "cell_type": "markdown",
   "id": "6d042a11",
   "metadata": {
    "papermill": {
     "duration": 0.012208,
     "end_time": "2024-09-26T10:33:27.761073",
     "exception": false,
     "start_time": "2024-09-26T10:33:27.748865",
     "status": "completed"
    },
    "tags": []
   },
   "source": [
    "Use the next code cell to create a choropleth map to visualize population density."
   ]
  },
  {
   "cell_type": "code",
   "execution_count": 11,
   "id": "c5511f62",
   "metadata": {
    "execution": {
     "iopub.execute_input": "2024-09-26T10:33:27.788167Z",
     "iopub.status.busy": "2024-09-26T10:33:27.787621Z",
     "iopub.status.idle": "2024-09-26T10:33:39.008989Z",
     "shell.execute_reply": "2024-09-26T10:33:39.007806Z"
    },
    "papermill": {
     "duration": 11.238109,
     "end_time": "2024-09-26T10:33:39.011800",
     "exception": false,
     "start_time": "2024-09-26T10:33:27.773691",
     "status": "completed"
    },
    "tags": []
   },
   "outputs": [
    {
     "data": {
      "text/html": [
       "\n",
       "        <iframe\n",
       "            width=\"100%\"\n",
       "            height=\"500px\"\n",
       "            src=\"q_3.html\"\n",
       "            frameborder=\"0\"\n",
       "            allowfullscreen\n",
       "            \n",
       "        ></iframe>\n",
       "        "
      ],
      "text/plain": [
       "<IPython.lib.display.IFrame at 0x7eb84d931ae0>"
      ]
     },
     "execution_count": 11,
     "metadata": {},
     "output_type": "execute_result"
    }
   ],
   "source": [
    "# Create a base map\n",
    "m_3 = folium.Map(location=[35,136], tiles='cartodbpositron', zoom_start=5)\n",
    "\n",
    "# Your code here: create a choropleth map to visualize population density\n",
    "Choropleth(geo_data=prefectures.__geo_interface__, \n",
    "           data=stats['density'], \n",
    "           key_on=\"feature.id\", \n",
    "           fill_color='YlGnBu', \n",
    "           legend_name='Prefecture density (Japan)'\n",
    "          ).add_to(m_3)\n",
    "\n",
    "\n",
    "# Uncomment to see a hint\n",
    "#q_3.a.hint()\n",
    "\n",
    "# View the map\n",
    "embed_map(m_3, 'q_3.html')"
   ]
  },
  {
   "cell_type": "code",
   "execution_count": 12,
   "id": "ca83de66",
   "metadata": {
    "execution": {
     "iopub.execute_input": "2024-09-26T10:33:39.038365Z",
     "iopub.status.busy": "2024-09-26T10:33:39.037941Z",
     "iopub.status.idle": "2024-09-26T10:33:39.048007Z",
     "shell.execute_reply": "2024-09-26T10:33:39.046509Z"
    },
    "papermill": {
     "duration": 0.026373,
     "end_time": "2024-09-26T10:33:39.050584",
     "exception": false,
     "start_time": "2024-09-26T10:33:39.024211",
     "status": "completed"
    },
    "tags": []
   },
   "outputs": [
    {
     "data": {
      "application/javascript": [
       "parent.postMessage({\"jupyterEvent\": \"custom.exercise_interaction\", \"data\": {\"outcomeType\": 1, \"valueTowardsCompletion\": 1.0, \"interactionType\": 1, \"questionType\": 2, \"questionId\": \"3.1_Q3P\", \"learnToolsVersion\": \"0.3.4\", \"failureMessage\": \"\", \"exceptionClass\": \"\", \"trace\": \"\"}}, \"*\")"
      ],
      "text/plain": [
       "<IPython.core.display.Javascript object>"
      ]
     },
     "metadata": {},
     "output_type": "display_data"
    },
    {
     "data": {
      "text/markdown": [
       "<span style=\"color:#33cc33\">Thank you for creating a map!</span>"
      ],
      "text/plain": [
       "Thank you for creating a map!"
      ]
     },
     "metadata": {},
     "output_type": "display_data"
    }
   ],
   "source": [
    "# Get credit for your work after you have created a map\n",
    "q_3.a.check()\n",
    "\n",
    "# Uncomment to see our solution (your code may look different!)\n",
    "#q_3.a.solution()"
   ]
  },
  {
   "cell_type": "markdown",
   "id": "b8a79649",
   "metadata": {
    "papermill": {
     "duration": 0.012276,
     "end_time": "2024-09-26T10:33:39.075679",
     "exception": false,
     "start_time": "2024-09-26T10:33:39.063403",
     "status": "completed"
    },
    "tags": []
   },
   "source": [
    "Which three prefectures have relatively higher density than the others?  Are they spread throughout the country, or all located in roughly the same geographical region?  (*If you're unfamiliar with Japanese geography, you might find [this map](https://en.wikipedia.org/wiki/Prefectures_of_Japan) useful to answer the questions.)*"
   ]
  },
  {
   "cell_type": "code",
   "execution_count": 13,
   "id": "ea6435f6",
   "metadata": {
    "execution": {
     "iopub.execute_input": "2024-09-26T10:33:39.102744Z",
     "iopub.status.busy": "2024-09-26T10:33:39.102307Z",
     "iopub.status.idle": "2024-09-26T10:33:39.112466Z",
     "shell.execute_reply": "2024-09-26T10:33:39.111157Z"
    },
    "papermill": {
     "duration": 0.026736,
     "end_time": "2024-09-26T10:33:39.115093",
     "exception": false,
     "start_time": "2024-09-26T10:33:39.088357",
     "status": "completed"
    },
    "tags": []
   },
   "outputs": [
    {
     "data": {
      "application/javascript": [
       "parent.postMessage({\"jupyterEvent\": \"custom.exercise_interaction\", \"data\": {\"interactionType\": 3, \"questionType\": 4, \"questionId\": \"3.2_Q3T\", \"learnToolsVersion\": \"0.3.4\", \"valueTowardsCompletion\": 0.0, \"failureMessage\": \"\", \"exceptionClass\": \"\", \"trace\": \"\", \"outcomeType\": 4}}, \"*\")"
      ],
      "text/plain": [
       "<IPython.core.display.Javascript object>"
      ]
     },
     "metadata": {},
     "output_type": "display_data"
    },
    {
     "data": {
      "text/markdown": [
       "<span style=\"color:#33cc99\">Solution:</span> Tokyo, Kanagawa, and Osaka have the highest population density.  All of these prefectures are located in central Japan, and Tokyo and Kanagawa are adjacent."
      ],
      "text/plain": [
       "Solution: Tokyo, Kanagawa, and Osaka have the highest population density.  All of these prefectures are located in central Japan, and Tokyo and Kanagawa are adjacent."
      ]
     },
     "metadata": {},
     "output_type": "display_data"
    }
   ],
   "source": [
    "# View the solution (Run this code cell to receive credit!)\n",
    "q_3.b.solution()"
   ]
  },
  {
   "cell_type": "markdown",
   "id": "2c77757a",
   "metadata": {
    "papermill": {
     "duration": 0.01285,
     "end_time": "2024-09-26T10:33:39.141085",
     "exception": false,
     "start_time": "2024-09-26T10:33:39.128235",
     "status": "completed"
    },
    "tags": []
   },
   "source": [
    "### 4) Which high-density prefecture is prone to high-magnitude earthquakes?\n",
    "\n",
    "Create a map to suggest one prefecture that might benefit from earthquake reinforcement.  Your map should visualize both density and earthquake magnitude."
   ]
  },
  {
   "cell_type": "code",
   "execution_count": 14,
   "id": "eb45f556",
   "metadata": {
    "execution": {
     "iopub.execute_input": "2024-09-26T10:33:39.169267Z",
     "iopub.status.busy": "2024-09-26T10:33:39.168852Z",
     "iopub.status.idle": "2024-09-26T10:33:55.899591Z",
     "shell.execute_reply": "2024-09-26T10:33:55.898137Z"
    },
    "papermill": {
     "duration": 16.747797,
     "end_time": "2024-09-26T10:33:55.902270",
     "exception": false,
     "start_time": "2024-09-26T10:33:39.154473",
     "status": "completed"
    },
    "tags": []
   },
   "outputs": [
    {
     "data": {
      "text/html": [
       "\n",
       "        <iframe\n",
       "            width=\"100%\"\n",
       "            height=\"500px\"\n",
       "            src=\"q_4.html\"\n",
       "            frameborder=\"0\"\n",
       "            allowfullscreen\n",
       "            \n",
       "        ></iframe>\n",
       "        "
      ],
      "text/plain": [
       "<IPython.lib.display.IFrame at 0x7eb84cc730a0>"
      ]
     },
     "execution_count": 14,
     "metadata": {},
     "output_type": "execute_result"
    }
   ],
   "source": [
    "# Create a base map\n",
    "m_4 = folium.Map(location=[35,136], tiles='cartodbpositron', zoom_start=5)\n",
    "\n",
    "# Your code here: create a map\n",
    "def color_producer(val):\n",
    "    if val <= 5:\n",
    "        return 'forestgreen'\n",
    "    else:\n",
    "        return 'darkorange'\n",
    "\n",
    "    \n",
    "# Add a bubble map to the base map\n",
    "for i in range(0,len(earthquakes.index)):\n",
    "    folium.Circle(\n",
    "        location=[earthquakes.iloc[i]['Latitude'], earthquakes.iloc[i]['Longitude']],\n",
    "        radius=20,\n",
    "        color=color_producer(earthquakes.iloc[i]['Magnitude'])).add_to(m_3)\n",
    "\n",
    "# Uncomment to see a hint\n",
    "#q_4.a.hint()\n",
    "\n",
    "# View the map\n",
    "embed_map(m_3, 'q_4.html')"
   ]
  },
  {
   "cell_type": "code",
   "execution_count": 15,
   "id": "211c1780",
   "metadata": {
    "execution": {
     "iopub.execute_input": "2024-09-26T10:33:55.931780Z",
     "iopub.status.busy": "2024-09-26T10:33:55.930573Z",
     "iopub.status.idle": "2024-09-26T10:33:55.945768Z",
     "shell.execute_reply": "2024-09-26T10:33:55.944624Z"
    },
    "papermill": {
     "duration": 0.032414,
     "end_time": "2024-09-26T10:33:55.948501",
     "exception": false,
     "start_time": "2024-09-26T10:33:55.916087",
     "status": "completed"
    },
    "tags": []
   },
   "outputs": [
    {
     "data": {
      "application/javascript": [
       "parent.postMessage({\"jupyterEvent\": \"custom.exercise_interaction\", \"data\": {\"outcomeType\": 1, \"valueTowardsCompletion\": 1.0, \"interactionType\": 1, \"questionType\": 2, \"questionId\": \"4.1_Q4P\", \"learnToolsVersion\": \"0.3.4\", \"failureMessage\": \"\", \"exceptionClass\": \"\", \"trace\": \"\"}}, \"*\")"
      ],
      "text/plain": [
       "<IPython.core.display.Javascript object>"
      ]
     },
     "metadata": {},
     "output_type": "display_data"
    },
    {
     "data": {
      "text/markdown": [
       "<span style=\"color:#33cc33\">Thank you for creating a map!</span>"
      ],
      "text/plain": [
       "Thank you for creating a map!"
      ]
     },
     "metadata": {},
     "output_type": "display_data"
    },
    {
     "data": {
      "application/javascript": [
       "parent.postMessage({\"jupyterEvent\": \"custom.exercise_interaction\", \"data\": {\"interactionType\": 3, \"questionType\": 2, \"questionId\": \"4.1_Q4P\", \"learnToolsVersion\": \"0.3.4\", \"valueTowardsCompletion\": 0.0, \"failureMessage\": \"\", \"exceptionClass\": \"\", \"trace\": \"\", \"outcomeType\": 4}}, \"*\")"
      ],
      "text/plain": [
       "<IPython.core.display.Javascript object>"
      ]
     },
     "metadata": {},
     "output_type": "display_data"
    },
    {
     "data": {
      "text/markdown": [
       "<span style=\"color:#33cc99\">Solution:</span> \n",
       "```python\n",
       "# Create a map\n",
       "def color_producer(magnitude):\n",
       "    if magnitude > 6.5:\n",
       "        return 'red'\n",
       "    else:\n",
       "        return 'green'\n",
       "\n",
       "Choropleth(\n",
       "    geo_data=prefectures['geometry'].__geo_interface__,\n",
       "    data=stats['density'],\n",
       "    key_on=\"feature.id\",\n",
       "    fill_color='BuPu',\n",
       "    legend_name='Population density (per square kilometer)').add_to(m_4)\n",
       "\n",
       "for i in range(0,len(earthquakes)):\n",
       "    folium.Circle(\n",
       "        location=[earthquakes.iloc[i]['Latitude'], earthquakes.iloc[i]['Longitude']],\n",
       "        popup=(\"{} ({})\").format(\n",
       "            earthquakes.iloc[i]['Magnitude'],\n",
       "            earthquakes.iloc[i]['DateTime'].year),\n",
       "        radius=earthquakes.iloc[i]['Magnitude']**5.5,\n",
       "        color=color_producer(earthquakes.iloc[i]['Magnitude'])).add_to(m_4)\n",
       "\n",
       "```"
      ],
      "text/plain": [
       "Solution: \n",
       "```python\n",
       "# Create a map\n",
       "def color_producer(magnitude):\n",
       "    if magnitude > 6.5:\n",
       "        return 'red'\n",
       "    else:\n",
       "        return 'green'\n",
       "\n",
       "Choropleth(\n",
       "    geo_data=prefectures['geometry'].__geo_interface__,\n",
       "    data=stats['density'],\n",
       "    key_on=\"feature.id\",\n",
       "    fill_color='BuPu',\n",
       "    legend_name='Population density (per square kilometer)').add_to(m_4)\n",
       "\n",
       "for i in range(0,len(earthquakes)):\n",
       "    folium.Circle(\n",
       "        location=[earthquakes.iloc[i]['Latitude'], earthquakes.iloc[i]['Longitude']],\n",
       "        popup=(\"{} ({})\").format(\n",
       "            earthquakes.iloc[i]['Magnitude'],\n",
       "            earthquakes.iloc[i]['DateTime'].year),\n",
       "        radius=earthquakes.iloc[i]['Magnitude']**5.5,\n",
       "        color=color_producer(earthquakes.iloc[i]['Magnitude'])).add_to(m_4)\n",
       "\n",
       "```"
      ]
     },
     "metadata": {},
     "output_type": "display_data"
    }
   ],
   "source": [
    "# Get credit for your work after you have created a map\n",
    "q_4.a.check()\n",
    "\n",
    "# Uncomment to see our solution (your code may look different!)\n",
    "q_4.a.solution()"
   ]
  },
  {
   "cell_type": "markdown",
   "id": "bbce4401",
   "metadata": {
    "papermill": {
     "duration": 0.013616,
     "end_time": "2024-09-26T10:33:55.976080",
     "exception": false,
     "start_time": "2024-09-26T10:33:55.962464",
     "status": "completed"
    },
    "tags": []
   },
   "source": [
    "Which prefecture do you recommend for extra earthquake reinforcement?"
   ]
  },
  {
   "cell_type": "code",
   "execution_count": 16,
   "id": "9bc0ce8d",
   "metadata": {
    "execution": {
     "iopub.execute_input": "2024-09-26T10:33:56.005716Z",
     "iopub.status.busy": "2024-09-26T10:33:56.005244Z",
     "iopub.status.idle": "2024-09-26T10:33:56.015486Z",
     "shell.execute_reply": "2024-09-26T10:33:56.014277Z"
    },
    "papermill": {
     "duration": 0.027871,
     "end_time": "2024-09-26T10:33:56.017924",
     "exception": false,
     "start_time": "2024-09-26T10:33:55.990053",
     "status": "completed"
    },
    "tags": []
   },
   "outputs": [
    {
     "data": {
      "application/javascript": [
       "parent.postMessage({\"jupyterEvent\": \"custom.exercise_interaction\", \"data\": {\"interactionType\": 3, \"questionType\": 4, \"questionId\": \"4.2_Q4T\", \"learnToolsVersion\": \"0.3.4\", \"valueTowardsCompletion\": 0.0, \"failureMessage\": \"\", \"exceptionClass\": \"\", \"trace\": \"\", \"outcomeType\": 4}}, \"*\")"
      ],
      "text/plain": [
       "<IPython.core.display.Javascript object>"
      ]
     },
     "metadata": {},
     "output_type": "display_data"
    },
    {
     "data": {
      "text/markdown": [
       "<span style=\"color:#33cc99\">Solution:</span> While there's no clear, single answer to this question, there are a few reasonable options. **Tokyo** is by far the most densely populated prefecture and has also experienced a number of earthquakes.  **Osaka** is relatively less densely populated, but experienced an earthquake that was relatively stronger than those near Tokyo.  And, the long coast of **Kanagawa** (in addition to its high density and the historical proximity of strong earthquakes) might lead us to worry about the added potential tsunami risk."
      ],
      "text/plain": [
       "Solution: While there's no clear, single answer to this question, there are a few reasonable options. **Tokyo** is by far the most densely populated prefecture and has also experienced a number of earthquakes.  **Osaka** is relatively less densely populated, but experienced an earthquake that was relatively stronger than those near Tokyo.  And, the long coast of **Kanagawa** (in addition to its high density and the historical proximity of strong earthquakes) might lead us to worry about the added potential tsunami risk."
      ]
     },
     "metadata": {},
     "output_type": "display_data"
    }
   ],
   "source": [
    "# View the solution (Run this code cell to receive credit!)\n",
    "q_4.b.solution()"
   ]
  },
  {
   "cell_type": "markdown",
   "id": "87c7f50f",
   "metadata": {
    "papermill": {
     "duration": 0.013857,
     "end_time": "2024-09-26T10:33:56.046041",
     "exception": false,
     "start_time": "2024-09-26T10:33:56.032184",
     "status": "completed"
    },
    "tags": []
   },
   "source": [
    "# Keep going\n",
    "\n",
    "Learn how to convert names of places to geographic coordinates with **[geocoding](https://www.kaggle.com/alexisbcook/manipulating-geospatial-data)**.  You'll also explore special ways to join information from multiple GeoDataFrames."
   ]
  },
  {
   "cell_type": "markdown",
   "id": "ba3703e8",
   "metadata": {
    "papermill": {
     "duration": 0.014193,
     "end_time": "2024-09-26T10:33:56.074797",
     "exception": false,
     "start_time": "2024-09-26T10:33:56.060604",
     "status": "completed"
    },
    "tags": []
   },
   "source": [
    "---\n",
    "\n",
    "\n",
    "\n",
    "\n",
    "*Have questions or comments? Visit the [Learn Discussion forum](https://www.kaggle.com/learn-forum/161464) to chat with other Learners.*"
   ]
  }
 ],
 "metadata": {
  "kaggle": {
   "accelerator": "none",
   "dataSources": [
    {
     "datasetId": 348259,
     "sourceId": 695175,
     "sourceType": "datasetVersion"
    },
    {
     "datasetId": 116573,
     "sourceId": 3551030,
     "sourceType": "datasetVersion"
    }
   ],
   "isGpuEnabled": false,
   "isInternetEnabled": false,
   "language": "python",
   "sourceType": "notebook"
  },
  "kernelspec": {
   "display_name": "Python 3",
   "language": "python",
   "name": "python3"
  },
  "language_info": {
   "codemirror_mode": {
    "name": "ipython",
    "version": 3
   },
   "file_extension": ".py",
   "mimetype": "text/x-python",
   "name": "python",
   "nbconvert_exporter": "python",
   "pygments_lexer": "ipython3",
   "version": "3.10.14"
  },
  "papermill": {
   "default_parameters": {},
   "duration": 45.696808,
   "end_time": "2024-09-26T10:33:57.013636",
   "environment_variables": {},
   "exception": null,
   "input_path": "__notebook__.ipynb",
   "output_path": "__notebook__.ipynb",
   "parameters": {},
   "start_time": "2024-09-26T10:33:11.316828",
   "version": "2.6.0"
  }
 },
 "nbformat": 4,
 "nbformat_minor": 5
}
